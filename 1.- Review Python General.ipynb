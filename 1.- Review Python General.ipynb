{
 "cells": [
  {
   "cell_type": "markdown",
   "metadata": {
    "id": "aRJlfC-UVv_n"
   },
   "source": [
    "\n",
    "# #1.- Review Python General\n",
    "\n",
    "\n"
   ]
  },
  {
   "cell_type": "markdown",
   "metadata": {
    "id": "g_VPNmjrWFbe"
   },
   "source": [
    "#### Favor de escribir los nombre de los integrantes de tu equipo.\n",
    "\n",
    "\n",
    "\n"
   ]
  },
  {
   "cell_type": "code",
   "execution_count": 1,
   "metadata": {
    "id": "hywrznPIXT4U"
   },
   "outputs": [],
   "source": [
    "# Verónica Lizbeth Castillo Morales"
   ]
  },
  {
   "cell_type": "markdown",
   "metadata": {
    "id": "fbSW3aMdVyki"
   },
   "source": [
    "### 1.- Escribe una función que te regrese la cadena \"Hola mundo\""
   ]
  },
  {
   "cell_type": "code",
   "execution_count": 2,
   "metadata": {
    "id": "nZLELe_3XRfN"
   },
   "outputs": [],
   "source": [
    "# Imprimir la frase \"Hola mundo\" (agregando carita feliz)\n",
    "def funcion_hola():\n",
    "    print(\"Hola mundo :)\")"
   ]
  },
  {
   "cell_type": "code",
   "execution_count": 3,
   "metadata": {},
   "outputs": [
    {
     "name": "stdout",
     "output_type": "stream",
     "text": [
      "Hola mundo :)\n"
     ]
    }
   ],
   "source": [
    "funcion_hola()"
   ]
  },
  {
   "cell_type": "markdown",
   "metadata": {
    "id": "cr7AdrQwV6f7"
   },
   "source": [
    "### 2.- Si desea construir algo usando una Raspberry Pi, probablemente use resistencias. Para este ejercicio, necesitas saber dos cosas sobre ellos:\n",
    "\n",
    "Cada resistencia tiene un valor de resistencia.\n",
    "\n",
    "Los resistores son pequeños, tan pequeños que si imprimieras el valor de resistencia en ellos, sería difícil de leer.\n",
    "\n",
    "Para solucionar este problema, los fabricantes imprimen bandas codificadas por colores en las resistencias para indicar sus valores de resistencia. Cada banda tiene una posición y un valor numérico.\n",
    "\n",
    "Las primeras 2 bandas de una resistencia tienen un esquema de codificación simple: cada color se asigna a un solo número. Por ejemplo, si imprimieran una banda marrón (valor 1) seguida de una banda verde (valor 5), se traduciría en el número 15.\n",
    "\n",
    "En este ejercicio vas a crear un programa útil para que no tengas que recordar los valores de las bandas. El programa tomará los nombres de los colores como entrada y generará un número de dos dígitos, ¡incluso si la entrada es de más de dos colores!\n",
    "\n",
    "Los colores de la banda se codifican de la siguiente manera:\n",
    "* Negro: 0\n",
    "* Marrón: 1\n",
    "* Red: 2\n",
    "* Naranja: 3\n",
    "* Amarillo: 4\n",
    "* Verde: 5\n",
    "* Azul: 6\n",
    "* Púrpura: 7\n",
    "* Gris: 8\n",
    "* Blanco: 9\n",
    "\n",
    "El argumento de la función acepta una cadena con colores separados por un guión."
   ]
  },
  {
   "cell_type": "markdown",
   "metadata": {
    "id": "0E_OgOgRW7nr"
   },
   "source": [
    "#### Resultados esperados:\n",
    "* decodedValue('marrón-verde') debe ser 15\n",
    "* decodedValue('marrón-verde-violeta') debe ser 15, ignorando el tercer color\n",
    "* decodedValue('rojo-naranja-amarillo-verde') debe ser 23, ignorando los dos últimos valores"
   ]
  },
  {
   "cell_type": "code",
   "execution_count": 4,
   "metadata": {
    "id": "bN3qxRdmXKsR"
   },
   "outputs": [],
   "source": [
    "# Definir función\n",
    "def resistencia(string):\n",
    "    # Módulos necesarios\n",
    "    from unidecode import unidecode\n",
    "    \n",
    "    # Procesamiento del input\n",
    "    palabras = string.split('-')[:2] ## Obtener lista con palabras dentro del input y dejar solo primeros dos\n",
    "    palabras = [unidecode(palabra).capitalize() for palabra in palabras] ## Capitalizar primera letra y eliminar acentos\n",
    "    \n",
    "    # Definición de equivalencias\n",
    "    color_dict = {'Negro':0,'Marron':1,'Rojo':2,'Naranja':3,'Amarillo':4,'Verde':5,\n",
    "                  'Azul':6,'Purpura':7,'Gris':8,'Blanco': 9} ## Formato diccionario\n",
    "    \n",
    "    # Generar código numérico\n",
    "    code_color = [color_dict.get(palabra.capitalize(),'') for palabra in palabras] ## Obtener valor del diccionario\n",
    "    code_color = [item for item in code_color if item != ''] ## Quitar elementos no válidos\n",
    "    \n",
    "    # Procesamiento del output\n",
    "    if len(code_color)>=len(palabras):\n",
    "        code = ''.join(map(str,code_color)) ## Definir código en string si ambos colores son válidos\n",
    "    else:\n",
    "        code = \"Uno o más colores no son válidos\" ## Lanzar mensaje si alguno no lo es\n",
    "        \n",
    "    # Output\n",
    "    print(code)"
   ]
  },
  {
   "cell_type": "code",
   "execution_count": 5,
   "metadata": {},
   "outputs": [
    {
     "name": "stdout",
     "output_type": "stream",
     "text": [
      "15\n"
     ]
    }
   ],
   "source": [
    "# Ejemplo 1\n",
    "resistencia('marrón-verde')"
   ]
  },
  {
   "cell_type": "code",
   "execution_count": 6,
   "metadata": {},
   "outputs": [
    {
     "name": "stdout",
     "output_type": "stream",
     "text": [
      "15\n"
     ]
    }
   ],
   "source": [
    "# Ejemplo 2\n",
    "resistencia('marrón-verde-violeta')"
   ]
  },
  {
   "cell_type": "code",
   "execution_count": 7,
   "metadata": {},
   "outputs": [
    {
     "name": "stdout",
     "output_type": "stream",
     "text": [
      "23\n"
     ]
    }
   ],
   "source": [
    "# Ejemplo 3\n",
    "resistencia('rojo-naranja-amarillo-verde')"
   ]
  },
  {
   "cell_type": "markdown",
   "metadata": {
    "id": "lKzMV1EdXYNw"
   },
   "source": [
    "### 3.- Crea una función que la entrada sea un año, y este de como salida si es un año bisiesto o no.\n",
    "\n",
    "Recuerda que un año bisiesto en el calendario gregoriano:\n",
    "\n",
    "Por lo cual entra cada año que es divisible por 4, excepto todos los años que son divisibles por 100, a menos que el año también sea divisible por 400\n"
   ]
  },
  {
   "cell_type": "markdown",
   "metadata": {
    "id": "3C4J6QNSXu3g"
   },
   "source": [
    "#### Resultado esperado \n",
    "* 1997 no es un año bisiesto\n",
    "* 1996 es un año bisiesto \n",
    "* 1900 no es un año bisiesto\n",
    "* 2000 sí es un año bisiesto"
   ]
  },
  {
   "cell_type": "code",
   "execution_count": 8,
   "metadata": {},
   "outputs": [],
   "source": [
    "# Definir función\n",
    "def bisiesto(year):\n",
    "    # Condicionales\n",
    "    if year % 4 == 0: ## Revisar si es divisible entre 4\n",
    "        if year % 100 == 0: ## Si lo es, revisar si es divisible entre 100\n",
    "            if year % 400 == 0: ## Si lo es, evisar si es divisible entre 400\n",
    "                print(f\"{year} es un año bisiesto\") ## Si lo es, es bisiesto\n",
    "            else:\n",
    "                print(f\"{year} no es un año bisiesto\") \n",
    "        if year % 100 != 0: # Si no es divisible entre 100 pero si entre 4\n",
    "            print(f\"{year} es un año bisiesto\") ## Es bisiesto\n",
    "    else:\n",
    "        print(f\"{year} no es un año bisiesto\") ## En otros casos no lo es"
   ]
  },
  {
   "cell_type": "code",
   "execution_count": 9,
   "metadata": {},
   "outputs": [
    {
     "name": "stdout",
     "output_type": "stream",
     "text": [
      "1997 no es un año bisiesto\n"
     ]
    }
   ],
   "source": [
    "# Ejemplo 1\n",
    "bisiesto(1997)"
   ]
  },
  {
   "cell_type": "code",
   "execution_count": 10,
   "metadata": {},
   "outputs": [
    {
     "name": "stdout",
     "output_type": "stream",
     "text": [
      "1996 es un año bisiesto\n"
     ]
    }
   ],
   "source": [
    "# Ejemplo 2\n",
    "bisiesto(1996)"
   ]
  },
  {
   "cell_type": "code",
   "execution_count": 11,
   "metadata": {},
   "outputs": [
    {
     "name": "stdout",
     "output_type": "stream",
     "text": [
      "1900 no es un año bisiesto\n"
     ]
    }
   ],
   "source": [
    "# Ejemplo 3\n",
    "bisiesto(1900)"
   ]
  },
  {
   "cell_type": "code",
   "execution_count": 12,
   "metadata": {},
   "outputs": [
    {
     "name": "stdout",
     "output_type": "stream",
     "text": [
      "2000 es un año bisiesto\n"
     ]
    }
   ],
   "source": [
    "# Ejemplo 4\n",
    "bisiesto(2000)"
   ]
  },
  {
   "cell_type": "markdown",
   "metadata": {},
   "source": [
    "### 4. Dado un nombre de planeta y una edad en segundos, calcula qué edad tendría alguien en diferentes planetas.\n",
    "\n",
    "- Mercurio: período orbital 0,2408467 años terrestres.\n",
    "- Venus: período orbital 0,6219178 años terrestres.\n",
    "- Tierra: período orbital 1,0 años terrestres, 365,25 días terrestres o 31557600 segundos\n",
    "- Marte: período orbital 1,8808158 años terrestres\n",
    "- Júpiter: período orbital 11,862615 años terrestres\n",
    "- Saturno: período orbital 29,447498 años terrestres\n",
    "- Urano: período orbital 84,016846 años terrestres\n",
    "- Neptuno: período orbital 164,79132 años terrestres\n",
    "\n",
    "Por ejemplo, si el usuario ingresa que tiene 1,000,000,000 segundos de edad y está en la Tierra, entonces el programa debería imprimir que el usuario tiene 31.69 años, es decir, desde que nació la Tierra ha orbitado el sol 31.69 veces."
   ]
  },
  {
   "cell_type": "code",
   "execution_count": 13,
   "metadata": {},
   "outputs": [],
   "source": [
    "# Definir función\n",
    "def edad_segundos(edad,planeta):\n",
    "    # Módulos necesarios\n",
    "    from unidecode import unidecode\n",
    "    \n",
    "    # Calcular edad en años terrestres\n",
    "    edad_tierra = edad/31557600\n",
    "    \n",
    "    # Diccionario de equivalencias de planetas\n",
    "    planet_dict = {'Mercurio':0.2408467,'Venus':0.6219178,'Tierra':1,'Marte':1.8808158,\n",
    "                   'Jupiter':11.862615,'Saturno':29.447498,'Urano':84.016846,'Neptuno':164.79132} ## Formato diccionario\n",
    "    \n",
    "    # Formatear planeta\n",
    "    planeta = unidecode(planeta).capitalize()\n",
    "    \n",
    "    # Equivalencia segun planeta\n",
    "    try:\n",
    "        eq_num = planet_dict[planeta] ## Equivalencia según input\n",
    "        edad_planeta = edad_tierra/eq_num ## Cálculo\n",
    "        print(f\"{edad} segundos de edad en la tierra equivalen a {round(edad_planeta,2)} vueltas al sol en el planeta {planeta}\")\n",
    "    except:\n",
    "        print(\"Planeta no válido\") ## Mensaje de planeta no válido"
   ]
  },
  {
   "cell_type": "code",
   "execution_count": 14,
   "metadata": {},
   "outputs": [
    {
     "name": "stdout",
     "output_type": "stream",
     "text": [
      "1000000000 segundos de edad en la tierra equivalen a 31.69 vueltas al sol en el planeta Tierra\n"
     ]
    }
   ],
   "source": [
    "# Ejemplo 1\n",
    "edad_segundos(1000000000,\"Tierra\")"
   ]
  },
  {
   "cell_type": "code",
   "execution_count": 15,
   "metadata": {},
   "outputs": [
    {
     "name": "stdout",
     "output_type": "stream",
     "text": [
      "1000000000 segundos de edad en la tierra equivalen a 50.95 vueltas al sol en el planeta Venus\n"
     ]
    }
   ],
   "source": [
    "# Ejemplo 2\n",
    "edad_segundos(1000000000,\"venus\")"
   ]
  },
  {
   "cell_type": "code",
   "execution_count": 16,
   "metadata": {},
   "outputs": [
    {
     "name": "stdout",
     "output_type": "stream",
     "text": [
      "1000000000 segundos de edad en la tierra equivalen a 2.67 vueltas al sol en el planeta Jupiter\n"
     ]
    }
   ],
   "source": [
    "# Ejemplo 3\n",
    "edad_segundos(1000000000,\"Júpiter\")"
   ]
  },
  {
   "cell_type": "markdown",
   "metadata": {
    "id": "QLT0VoHiYDIe"
   },
   "source": [
    "### 5.- Abre por favor, el archivo exo.csv, en la siguiente liga podrás encontrar informacion respecto al set de datos: https://exoplanetarchive.ipac.caltech.edu/docs/API_kepcandidate_columns.html \n",
    "\n",
    "¡A responder las siguientes preguntas!\n"
   ]
  },
  {
   "cell_type": "code",
   "execution_count": 17,
   "metadata": {},
   "outputs": [
    {
     "data": {
      "text/html": [
       "<div>\n",
       "<style scoped>\n",
       "    .dataframe tbody tr th:only-of-type {\n",
       "        vertical-align: middle;\n",
       "    }\n",
       "\n",
       "    .dataframe tbody tr th {\n",
       "        vertical-align: top;\n",
       "    }\n",
       "\n",
       "    .dataframe thead th {\n",
       "        text-align: right;\n",
       "    }\n",
       "</style>\n",
       "<table border=\"1\" class=\"dataframe\">\n",
       "  <thead>\n",
       "    <tr style=\"text-align: right;\">\n",
       "      <th></th>\n",
       "      <th>kepid</th>\n",
       "      <th>kepoi_name</th>\n",
       "      <th>kepler_name</th>\n",
       "      <th>koi_disposition</th>\n",
       "      <th>koi_pdisposition</th>\n",
       "      <th>koi_score</th>\n",
       "      <th>koi_fpflag_nt</th>\n",
       "      <th>koi_fpflag_ss</th>\n",
       "      <th>koi_fpflag_co</th>\n",
       "      <th>koi_fpflag_ec</th>\n",
       "      <th>...</th>\n",
       "      <th>koi_steff_err2</th>\n",
       "      <th>koi_slogg</th>\n",
       "      <th>koi_slogg_err1</th>\n",
       "      <th>koi_slogg_err2</th>\n",
       "      <th>koi_srad</th>\n",
       "      <th>koi_srad_err1</th>\n",
       "      <th>koi_srad_err2</th>\n",
       "      <th>ra</th>\n",
       "      <th>dec</th>\n",
       "      <th>koi_kepmag</th>\n",
       "    </tr>\n",
       "    <tr>\n",
       "      <th>rowid</th>\n",
       "      <th></th>\n",
       "      <th></th>\n",
       "      <th></th>\n",
       "      <th></th>\n",
       "      <th></th>\n",
       "      <th></th>\n",
       "      <th></th>\n",
       "      <th></th>\n",
       "      <th></th>\n",
       "      <th></th>\n",
       "      <th></th>\n",
       "      <th></th>\n",
       "      <th></th>\n",
       "      <th></th>\n",
       "      <th></th>\n",
       "      <th></th>\n",
       "      <th></th>\n",
       "      <th></th>\n",
       "      <th></th>\n",
       "      <th></th>\n",
       "      <th></th>\n",
       "    </tr>\n",
       "  </thead>\n",
       "  <tbody>\n",
       "    <tr>\n",
       "      <th>1</th>\n",
       "      <td>10797460</td>\n",
       "      <td>K00752.01</td>\n",
       "      <td>Kepler-227 b</td>\n",
       "      <td>CONFIRMED</td>\n",
       "      <td>CANDIDATE</td>\n",
       "      <td>1.000</td>\n",
       "      <td>0</td>\n",
       "      <td>0</td>\n",
       "      <td>0</td>\n",
       "      <td>0</td>\n",
       "      <td>...</td>\n",
       "      <td>-81.0</td>\n",
       "      <td>4.467</td>\n",
       "      <td>0.064</td>\n",
       "      <td>-0.096</td>\n",
       "      <td>0.927</td>\n",
       "      <td>0.105</td>\n",
       "      <td>-0.061</td>\n",
       "      <td>291.93423</td>\n",
       "      <td>48.141651</td>\n",
       "      <td>15.347</td>\n",
       "    </tr>\n",
       "    <tr>\n",
       "      <th>2</th>\n",
       "      <td>10797460</td>\n",
       "      <td>K00752.02</td>\n",
       "      <td>Kepler-227 c</td>\n",
       "      <td>CONFIRMED</td>\n",
       "      <td>CANDIDATE</td>\n",
       "      <td>0.969</td>\n",
       "      <td>0</td>\n",
       "      <td>0</td>\n",
       "      <td>0</td>\n",
       "      <td>0</td>\n",
       "      <td>...</td>\n",
       "      <td>-81.0</td>\n",
       "      <td>4.467</td>\n",
       "      <td>0.064</td>\n",
       "      <td>-0.096</td>\n",
       "      <td>0.927</td>\n",
       "      <td>0.105</td>\n",
       "      <td>-0.061</td>\n",
       "      <td>291.93423</td>\n",
       "      <td>48.141651</td>\n",
       "      <td>15.347</td>\n",
       "    </tr>\n",
       "    <tr>\n",
       "      <th>3</th>\n",
       "      <td>10811496</td>\n",
       "      <td>K00753.01</td>\n",
       "      <td>NaN</td>\n",
       "      <td>FALSE POSITIVE</td>\n",
       "      <td>FALSE POSITIVE</td>\n",
       "      <td>0.000</td>\n",
       "      <td>0</td>\n",
       "      <td>1</td>\n",
       "      <td>0</td>\n",
       "      <td>0</td>\n",
       "      <td>...</td>\n",
       "      <td>-176.0</td>\n",
       "      <td>4.544</td>\n",
       "      <td>0.044</td>\n",
       "      <td>-0.176</td>\n",
       "      <td>0.868</td>\n",
       "      <td>0.233</td>\n",
       "      <td>-0.078</td>\n",
       "      <td>297.00482</td>\n",
       "      <td>48.134129</td>\n",
       "      <td>15.436</td>\n",
       "    </tr>\n",
       "    <tr>\n",
       "      <th>4</th>\n",
       "      <td>10848459</td>\n",
       "      <td>K00754.01</td>\n",
       "      <td>NaN</td>\n",
       "      <td>FALSE POSITIVE</td>\n",
       "      <td>FALSE POSITIVE</td>\n",
       "      <td>0.000</td>\n",
       "      <td>0</td>\n",
       "      <td>1</td>\n",
       "      <td>0</td>\n",
       "      <td>0</td>\n",
       "      <td>...</td>\n",
       "      <td>-174.0</td>\n",
       "      <td>4.564</td>\n",
       "      <td>0.053</td>\n",
       "      <td>-0.168</td>\n",
       "      <td>0.791</td>\n",
       "      <td>0.201</td>\n",
       "      <td>-0.067</td>\n",
       "      <td>285.53461</td>\n",
       "      <td>48.285210</td>\n",
       "      <td>15.597</td>\n",
       "    </tr>\n",
       "    <tr>\n",
       "      <th>5</th>\n",
       "      <td>10854555</td>\n",
       "      <td>K00755.01</td>\n",
       "      <td>Kepler-664 b</td>\n",
       "      <td>CONFIRMED</td>\n",
       "      <td>CANDIDATE</td>\n",
       "      <td>1.000</td>\n",
       "      <td>0</td>\n",
       "      <td>0</td>\n",
       "      <td>0</td>\n",
       "      <td>0</td>\n",
       "      <td>...</td>\n",
       "      <td>-211.0</td>\n",
       "      <td>4.438</td>\n",
       "      <td>0.070</td>\n",
       "      <td>-0.210</td>\n",
       "      <td>1.046</td>\n",
       "      <td>0.334</td>\n",
       "      <td>-0.133</td>\n",
       "      <td>288.75488</td>\n",
       "      <td>48.226200</td>\n",
       "      <td>15.509</td>\n",
       "    </tr>\n",
       "  </tbody>\n",
       "</table>\n",
       "<p>5 rows × 49 columns</p>\n",
       "</div>"
      ],
      "text/plain": [
       "          kepid kepoi_name   kepler_name koi_disposition koi_pdisposition  \\\n",
       "rowid                                                                       \n",
       "1      10797460  K00752.01  Kepler-227 b       CONFIRMED        CANDIDATE   \n",
       "2      10797460  K00752.02  Kepler-227 c       CONFIRMED        CANDIDATE   \n",
       "3      10811496  K00753.01           NaN  FALSE POSITIVE   FALSE POSITIVE   \n",
       "4      10848459  K00754.01           NaN  FALSE POSITIVE   FALSE POSITIVE   \n",
       "5      10854555  K00755.01  Kepler-664 b       CONFIRMED        CANDIDATE   \n",
       "\n",
       "       koi_score  koi_fpflag_nt  koi_fpflag_ss  koi_fpflag_co  koi_fpflag_ec  \\\n",
       "rowid                                                                          \n",
       "1          1.000              0              0              0              0   \n",
       "2          0.969              0              0              0              0   \n",
       "3          0.000              0              1              0              0   \n",
       "4          0.000              0              1              0              0   \n",
       "5          1.000              0              0              0              0   \n",
       "\n",
       "       ...  koi_steff_err2  koi_slogg  koi_slogg_err1  koi_slogg_err2  \\\n",
       "rowid  ...                                                              \n",
       "1      ...           -81.0      4.467           0.064          -0.096   \n",
       "2      ...           -81.0      4.467           0.064          -0.096   \n",
       "3      ...          -176.0      4.544           0.044          -0.176   \n",
       "4      ...          -174.0      4.564           0.053          -0.168   \n",
       "5      ...          -211.0      4.438           0.070          -0.210   \n",
       "\n",
       "       koi_srad  koi_srad_err1  koi_srad_err2         ra        dec  \\\n",
       "rowid                                                                 \n",
       "1         0.927          0.105         -0.061  291.93423  48.141651   \n",
       "2         0.927          0.105         -0.061  291.93423  48.141651   \n",
       "3         0.868          0.233         -0.078  297.00482  48.134129   \n",
       "4         0.791          0.201         -0.067  285.53461  48.285210   \n",
       "5         1.046          0.334         -0.133  288.75488  48.226200   \n",
       "\n",
       "       koi_kepmag  \n",
       "rowid              \n",
       "1          15.347  \n",
       "2          15.347  \n",
       "3          15.436  \n",
       "4          15.597  \n",
       "5          15.509  \n",
       "\n",
       "[5 rows x 49 columns]"
      ]
     },
     "execution_count": 17,
     "metadata": {},
     "output_type": "execute_result"
    }
   ],
   "source": [
    "# Importar pandas y cargar csv\n",
    "import pandas as pd\n",
    "df = pd.read_csv('files/exo_planet.csv',index_col=0) ## Cargar archivo\n",
    "df.head()"
   ]
  },
  {
   "cell_type": "markdown",
   "metadata": {
    "id": "DxVci9_FcW09"
   },
   "source": [
    "¿Cuántas filas de datos tiene?\n"
   ]
  },
  {
   "cell_type": "code",
   "execution_count": 18,
   "metadata": {
    "id": "zVTyTP97XuAS"
   },
   "outputs": [
    {
     "name": "stdout",
     "output_type": "stream",
     "text": [
      "El set tiene 9564 filas\n"
     ]
    }
   ],
   "source": [
    "# Conteo de filas\n",
    "filas = len(df)\n",
    "print(f\"El set tiene {filas} filas\")"
   ]
  },
  {
   "cell_type": "markdown",
   "metadata": {
    "id": "bgaGOrRnccA2"
   },
   "source": [
    "¿Qué representa cada fila?\n"
   ]
  },
  {
   "cell_type": "code",
   "execution_count": 19,
   "metadata": {
    "id": "LDT1a1LxcdsM"
   },
   "outputs": [
    {
     "name": "stdout",
     "output_type": "stream",
     "text": [
      "Cada línea representa un KOI, que son objetos reconocidos por el telescopio Kepler como candidatos a planetas.\n"
     ]
    }
   ],
   "source": [
    "# Respuesta\n",
    "print(\"Cada línea representa un KOI, que son objetos reconocidos por el telescopio Kepler como candidatos a planetas.\")"
   ]
  },
  {
   "cell_type": "markdown",
   "metadata": {
    "id": "1thvc2rQcgyd"
   },
   "source": [
    "¿Cuántos planetas están confirmados?\n"
   ]
  },
  {
   "cell_type": "code",
   "execution_count": 20,
   "metadata": {
    "id": "Pu_XmzzBcfup"
   },
   "outputs": [
    {
     "name": "stdout",
     "output_type": "stream",
     "text": [
      "Hay 2293 planetas en estado confirmado.\n"
     ]
    }
   ],
   "source": [
    "# Filtro de planetas confirmados, filtrando columna koi_disposition\n",
    "filter_koi = df[df[\"koi_disposition\"]==\"CONFIRMED\"]\n",
    "print(f\"Hay {len(filter_koi)} planetas en estado confirmado.\")"
   ]
  },
  {
   "cell_type": "markdown",
   "metadata": {
    "id": "D3kD1GeqckGf"
   },
   "source": [
    "¿Cuál es la temperatura máxima de los planetas?\n"
   ]
  },
  {
   "cell_type": "code",
   "execution_count": 21,
   "metadata": {
    "id": "r1b6nuHrcl40"
   },
   "outputs": [
    {
     "name": "stdout",
     "output_type": "stream",
     "text": [
      "La temperatura máxima de los planetas es de 3559.0°K.\n"
     ]
    }
   ],
   "source": [
    "### Valor máximo de la columna koi_teq, que es la aproximación en Kelvin de la temperatura del planeta\n",
    "temp_max = filter_koi[\"koi_teq\"].max()\n",
    "print(f\"La temperatura máxima de los planetas es de {temp_max}°K.\")"
   ]
  },
  {
   "cell_type": "markdown",
   "metadata": {
    "id": "DOwmvW2ucoqb"
   },
   "source": [
    "¿Cuál es la temperatura máxima de las estrellas?\n"
   ]
  },
  {
   "cell_type": "code",
   "execution_count": 22,
   "metadata": {
    "id": "2cPWCl-FcqkE"
   },
   "outputs": [
    {
     "name": "stdout",
     "output_type": "stream",
     "text": [
      "La temperatura máxima de las estrellas es de 9565.0°K.\n"
     ]
    }
   ],
   "source": [
    "### Valor máximo de la columna koi_steff, que es la temperatura de la estrella en Kelvin\n",
    "temp_max2 = filter_koi[\"koi_steff\"].max()\n",
    "print(f\"La temperatura máxima de las estrellas es de {temp_max2}°K.\")"
   ]
  },
  {
   "cell_type": "markdown",
   "metadata": {
    "id": "SCCSmIkvctU0"
   },
   "source": [
    "¿Cuál es la distancia entre el planeta y la estrella?\n"
   ]
  },
  {
   "cell_type": "code",
   "execution_count": 23,
   "metadata": {
    "id": "97SHZZ51cq6a"
   },
   "outputs": [
    {
     "name": "stdout",
     "output_type": "stream",
     "text": [
      "La distancia entre planeta y estrella se encuentra en el dataset en la columna 'koi_dor', la cual no se encuentra entre las columnas estándar. Se podría calcular con la tercera ley de Kepler, pero tampoco tenemos la masa estelar entre las columnas.\n"
     ]
    }
   ],
   "source": [
    "# Definir columna relevante y describir\n",
    "print(\"La distancia entre planeta y estrella se encuentra en el dataset en la columna 'koi_dor', la cual no se encuentra entre las columnas estándar. Se podría calcular con la tercera ley de Kepler, pero tampoco tenemos la masa estelar entre las columnas.\")"
   ]
  },
  {
   "cell_type": "markdown",
   "metadata": {
    "id": "lQT5XPDgcweP"
   },
   "source": [
    "¿Cuántos planetas hay en cada sistema?\n"
   ]
  },
  {
   "cell_type": "code",
   "execution_count": 24,
   "metadata": {
    "id": "yC8as9KOcx0E"
   },
   "outputs": [
    {
     "name": "stdout",
     "output_type": "stream",
     "text": [
      "En promedio, hay 1.41 planetas por sistema.\n"
     ]
    }
   ],
   "source": [
    "# Definir sistemas y agrupar\n",
    "sist_count = pd.DataFrame(filter_koi) ## Definir DF de planetas confirmados\n",
    "sist_count[\"star\"] = sist_count[\"kepoi_name\"].str.slice(2, 6) ## Obtener NNNN del nombre, indicando la estrella\n",
    "sist_count = pd.DataFrame(sist_count.groupby('star')['kepoi_name'].count()) ## Contar planetas unicos\n",
    "prom_planetas = sist_count[\"kepoi_name\"].mean() ## Sacar media\n",
    "print(f\"En promedio, hay {prom_planetas.round(2)} planetas por sistema.\")"
   ]
  },
  {
   "cell_type": "markdown",
   "metadata": {
    "id": "uKJs31tdc2EI"
   },
   "source": [
    "¿Cuánto varía la temperatura del planeta?\n"
   ]
  },
  {
   "cell_type": "code",
   "execution_count": 25,
   "metadata": {
    "id": "-TLcn1qCc3e_"
   },
   "outputs": [
    {
     "name": "stdout",
     "output_type": "stream",
     "text": [
      "La temperatura de los planetas va de 129.0 a 3559.0°K. Esto indica una variación de 3430.0°K.\n",
      "Asimismo, si nos vamos a variación promedio, la temperatura de los planetas es de 839.13+-386.74°K.\n"
     ]
    }
   ],
   "source": [
    "# Definir variación de los planetas en temperatura.\n",
    "temp_min = filter_koi[\"koi_teq\"].min()\n",
    "temp_var = filter_koi[\"koi_teq\"].std()\n",
    "temp_mean = filter_koi[\"koi_teq\"].mean()\n",
    "print(f\"La temperatura de los planetas va de {temp_min} a {temp_max}°K. Esto indica una variación de {temp_max-temp_min}°K.\")\n",
    "print(f\"Asimismo, si nos vamos a variación promedio, la temperatura de los planetas es de {temp_mean.round(2)}+-{temp_var.round(2)}°K.\")"
   ]
  },
  {
   "cell_type": "markdown",
   "metadata": {
    "id": "Ja5u1X-Uc6XU"
   },
   "source": [
    "¿Cuánto varía la temperatura de las estrellas?\n"
   ]
  },
  {
   "cell_type": "code",
   "execution_count": 26,
   "metadata": {
    "id": "eWsqRzqHc7d7"
   },
   "outputs": [
    {
     "name": "stdout",
     "output_type": "stream",
     "text": [
      "La temperatura de las estrellas va de 2703.0 a 9565.0°K. Esto indica una variación de 6862.0°K.\n",
      "Asimismo, si nos vamos a variación promedio, la temperatura de las estrellas es de 5477.97+-677.13°K.\n"
     ]
    }
   ],
   "source": [
    "# Definir variación de las estrellas en temperatura.\n",
    "temp_min2 = filter_koi[\"koi_steff\"].min()\n",
    "temp_var2 = filter_koi[\"koi_steff\"].std()\n",
    "temp_mean2 = filter_koi[\"koi_steff\"].mean()\n",
    "print(f\"La temperatura de las estrellas va de {temp_min2} a {temp_max2}°K. Esto indica una variación de {temp_max2-temp_min2}°K.\")\n",
    "print(f\"Asimismo, si nos vamos a variación promedio, la temperatura de las estrellas es de {temp_mean2.round(2)}+-{temp_var2.round(2)}°K.\")"
   ]
  },
  {
   "cell_type": "markdown",
   "metadata": {
    "id": "x7vMs8EMc9KP"
   },
   "source": [
    "¿Cuántos NaN hay en cada categoría?\n"
   ]
  },
  {
   "cell_type": "code",
   "execution_count": 27,
   "metadata": {
    "id": "7-hiSEu_c-mt"
   },
   "outputs": [
    {
     "data": {
      "text/plain": [
       "kepid                   0\n",
       "kepoi_name              0\n",
       "kepler_name          7270\n",
       "koi_disposition         0\n",
       "koi_pdisposition        0\n",
       "koi_score            1510\n",
       "koi_fpflag_nt           0\n",
       "koi_fpflag_ss           0\n",
       "koi_fpflag_co           0\n",
       "koi_fpflag_ec           0\n",
       "koi_period              0\n",
       "koi_period_err1       454\n",
       "koi_period_err2       454\n",
       "koi_time0bk             0\n",
       "koi_time0bk_err1      454\n",
       "koi_time0bk_err2      454\n",
       "koi_impact            363\n",
       "koi_impact_err1       454\n",
       "koi_impact_err2       454\n",
       "koi_duration            0\n",
       "koi_duration_err1     454\n",
       "koi_duration_err2     454\n",
       "koi_depth             363\n",
       "koi_depth_err1        454\n",
       "koi_depth_err2        454\n",
       "koi_prad              363\n",
       "koi_prad_err1         363\n",
       "koi_prad_err2         363\n",
       "koi_teq               363\n",
       "koi_teq_err1         9564\n",
       "koi_teq_err2         9564\n",
       "koi_insol             321\n",
       "koi_insol_err1        321\n",
       "koi_insol_err2        321\n",
       "koi_model_snr         363\n",
       "koi_tce_plnt_num      346\n",
       "koi_tce_delivname     346\n",
       "koi_steff             363\n",
       "koi_steff_err1        468\n",
       "koi_steff_err2        483\n",
       "koi_slogg             363\n",
       "koi_slogg_err1        468\n",
       "koi_slogg_err2        468\n",
       "koi_srad              363\n",
       "koi_srad_err1         468\n",
       "koi_srad_err2         468\n",
       "ra                      0\n",
       "dec                     0\n",
       "koi_kepmag              1\n",
       "dtype: int64"
      ]
     },
     "execution_count": 27,
     "metadata": {},
     "output_type": "execute_result"
    }
   ],
   "source": [
    "# Contar nulls\n",
    "nan_counts = df.isna().sum()\n",
    "nan_counts"
   ]
  },
  {
   "cell_type": "code",
   "execution_count": null,
   "metadata": {},
   "outputs": [],
   "source": []
  }
 ],
 "metadata": {
  "colab": {
   "collapsed_sections": [],
   "name": "1.- Review Python General.ipynb",
   "provenance": []
  },
  "kernelspec": {
   "display_name": "Python 3",
   "language": "python",
   "name": "python3"
  },
  "language_info": {
   "codemirror_mode": {
    "name": "ipython",
    "version": 3
   },
   "file_extension": ".py",
   "mimetype": "text/x-python",
   "name": "python",
   "nbconvert_exporter": "python",
   "pygments_lexer": "ipython3",
   "version": "3.6.13"
  }
 },
 "nbformat": 4,
 "nbformat_minor": 1
}
